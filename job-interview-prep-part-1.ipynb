{
 "cells": [
  {
   "cell_type": "markdown",
   "id": "1be8cef3",
   "metadata": {},
   "source": [
    "# Setup"
   ]
  },
  {
   "cell_type": "code",
   "execution_count": null,
   "id": "0d5b5b92",
   "metadata": {},
   "outputs": [],
   "source": [
    "from google.colab import userdata\n",
    "openai_api_key = userdata.get('ai_agents_openai')"
   ]
  },
  {
   "cell_type": "code",
   "execution_count": null,
   "id": "11bd681b",
   "metadata": {},
   "outputs": [],
   "source": [
    "!pip install 'crewai[tools]' -q\n",
    "!pip install 'langchain-openai' -q"
   ]
  },
  {
   "cell_type": "code",
   "execution_count": null,
   "id": "37987ab7",
   "metadata": {},
   "outputs": [],
   "source": [
    "# Import libraries\n",
    "from langchain_openai import ChatOpenAI\n",
    "from crewai import Agent, Process, Crew, Task\n",
    "from IPython.display import display, Markdown\n",
    "import os\n",
    "from crewai.knowledge.source.string_knowledge_source import StringKnowledgeSource"
   ]
  },
  {
   "cell_type": "code",
   "execution_count": null,
   "id": "1273f7e8",
   "metadata": {},
   "outputs": [],
   "source": [
    "# Set the API Keys as environment variables\n",
    "os.environ['OPENAI_API_KEY'] = openai_api_key"
   ]
  },
  {
   "cell_type": "code",
   "execution_count": null,
   "id": "3aef9a4e",
   "metadata": {},
   "outputs": [],
   "source": [
    "# Define the LLM\n",
    "llm = ChatOpenAI(model_name = \"gpt-4o\", temperature = 0.5)"
   ]
  },
  {
   "cell_type": "markdown",
   "id": "db9ae7dd",
   "metadata": {},
   "source": [
    "# Get the data\n",
    "\n",
    "* Interviewer\n",
    "* Company\n",
    "* Job Position\n",
    "* Job Description\n"
   ]
  },
  {
   "cell_type": "code",
   "execution_count": null,
   "id": "c0d65adb",
   "metadata": {},
   "outputs": [],
   "source": [
    "# Store the data\n",
    "interviewer = input('Enter the name of the interviewer: ')\n",
    "company = input('Enter the name of the company: ')\n",
    "job_position = input('Enter the job position: ')\n",
    "job_description = input('Enter the job description: ')"
   ]
  },
  {
   "cell_type": "markdown",
   "id": "8732a6dd",
   "metadata": {},
   "source": [
    "# Interviewer AI Agent"
   ]
  },
  {
   "cell_type": "code",
   "execution_count": null,
   "id": "a0eeae03",
   "metadata": {},
   "outputs": [],
   "source": [
    "# Create the interver AI agent\n",
    "interviewer_agent = Agent(\n",
    "    role = f\" You are {interviewer}, employed at {company}, and hiring for job position {job_position}\",\n",
    "    goal = f\" you help the user user prepare for the job interview for job {job_position} with the following description: {job_description}\",\n",
    "    backstory = \"\"\"\n",
    "    Experience\n",
    "    BEAT81\n",
    "    Analytics Engineer\n",
    "\n",
    "    BEAT81 · Full-timeBEAT81 · Full-time\n",
    "    Apr 2024 - Present · 11 mos\n",
    "    Berlin, Germany\n",
    "    diconium\n",
    "    Full-time · 4 yrs 2 mosFull-time · 4 yrs 2 mos\n",
    "\n",
    "    Senior Cloud Architect\n",
    "    Apr 2022 - Mar 2024 · 2 yrs\n",
    "    Microsoft Azure, DBT and +4 skills\n",
    "\n",
    "    Data Engineer\n",
    "    Jan 2021 - Mar 2022 · 1 yr 3 mosJan 2021 to Mar 2022 · 1 yr 3 mos\n",
    "    DBT, AWS and +4 skills\n",
    "\n",
    "    Data Scientist\n",
    "    Feb 2020 - Dec 2020 · 11 mos\n",
    "    SQL and Python\n",
    "    4flow logo\n",
    "\n",
    "    Data Scientist\n",
    "    4flow · Full-time4flow · Full-time\n",
    "    Jun 2019 - Dec 2019 · 7 mosJun 2019 to Dec 2019 · 7 mos\n",
    "    SQL and Python\n",
    "    DCMN\n",
    "    Full-time · 3 yrs 3 mos\n",
    "\n",
    "    Data Scientist\n",
    "    Apr 2017 - Apr 2019 · 2 yrs 1 moApr 2017 to Apr 2019 · 2 yrs 1 mo\n",
    "    SQL and Python\n",
    "    Data Analyst / Business Intelligence Manager\n",
    "\n",
    "    Feb 2016 - Mar 2017 · 1 yr 2 mosFeb 2016 to Mar 2017 · 1 yr 2 mos\n",
    "    SQL and Python\n",
    "    iversity logo\n",
    "\n",
    "    Data Analyst\n",
    "    iversity · Full-timeiversity · Full-time\n",
    "    Dec 2014 - Dec 2015 · 1 yr 1 moDec 2014 to Dec 2015 · 1 yr 1 mo\n",
    "    SQL and R\n",
    "\n",
    "    Education\n",
    "    Technische Universität Berlin\n",
    "    Master of Science - MS, Computational Neuroscience\n",
    "    Sep 2009 - Aug 2013\n",
    "\n",
    "    Universität Osnabrück\n",
    "    Bachelor of Science - BS, Cognitive ScienceBachelor of Science - BS, Cognitive Science\n",
    "    \"\"\",\n",
    "    llm = llm\n",
    ")"
   ]
  },
  {
   "cell_type": "markdown",
   "id": "715002b0",
   "metadata": {},
   "source": []
  },
  {
   "cell_type": "code",
   "execution_count": null,
   "id": "2ea4026b",
   "metadata": {},
   "outputs": [],
   "source": [
    "# Define the interview prep task\n",
    "interview_prep_task = Task(\n",
    "    description = f\"\"\"\n",
    "    Interview the user for the job {job_position} with the following description: {job_description}\n",
    "    \"\"\",\n",
    "    expected_output = f\"\"\"\n",
    "    Ask only one question to the user that is relevant for the job {job_position}\n",
    "    \"\"\",\n",
    "    agent = interviewer_agent,\n",
    "    human_input = True\n",
    ")"
   ]
  },
  {
   "cell_type": "markdown",
   "id": "78670507",
   "metadata": {},
   "source": [
    "# AI Coach"
   ]
  },
  {
   "cell_type": "code",
   "execution_count": null,
   "id": "341fa8f8",
   "metadata": {},
   "outputs": [],
   "source": [
    "# Build the AI interview coach agent\n",
    "coach_agent = Agent(\n",
    "    role = \"Interview Coach\",\n",
    "    goal = f\"I help the user prepare for the job interview for job {job_position} by grading the relevance of the answer\",\n",
    "    backstory = \"You are an expert in job interviews\",\n",
    "    llm = llm\n",
    ")"
   ]
  },
  {
   "cell_type": "code",
   "execution_count": null,
   "id": "be504d74",
   "metadata": {},
   "outputs": [],
   "source": [
    "# Define the Coaching Task\n",
    "coaching_task = Task(\n",
    "    description = f\"\"\" Give feedback to the user on its answer \"\"\",\n",
    "    expected_output = f\"\"\" Give feedback to the user on its answer with bullet points on what was good, bad, and how to take it to the next level\"\"\",\n",
    "    agent = coach_agent,\n",
    "    context = [interview_prep_task],\n",
    ")"
   ]
  },
  {
   "cell_type": "markdown",
   "id": "d0c19f22",
   "metadata": {},
   "source": [
    "# AI Crew"
   ]
  },
  {
   "cell_type": "code",
   "execution_count": null,
   "id": "d5e328de",
   "metadata": {},
   "outputs": [],
   "source": [
    "# Create an empty list for questions\n",
    "interview_questions = []\n",
    "\n",
    "# # Store each question\n",
    "# interview_questions.append(result.tasks_output[0].raw)\n",
    "# interview_content = ' '.join(interview_questions)\n",
    "# string_source = StringKnowledgeSource(content = interview_content)"
   ]
  },
  {
   "cell_type": "code",
   "execution_count": null,
   "id": "da02c139",
   "metadata": {},
   "outputs": [],
   "source": [
    "crew = Crew(\n",
    "    agents = [interviewer_agent, coach_agent],\n",
    "    tasks = [interview_prep_task, coaching_task],\n",
    "    verbose = True,\n",
    "    process = Process.sequential,\n",
    "    memory = True,\n",
    "    knowledge_sources = [string_source],\n",
    ")\n",
    "result = crew.kickoff()\n",
    "\n",
    "# Store each question\n",
    "interview_questions.append(result.tasks_output[0].raw)\n",
    "interview_content = ' '.join(interview_questions)\n",
    "string_source = StringKnowledgeSource(content = interview_content)"
   ]
  },
  {
   "cell_type": "code",
   "execution_count": null,
   "id": "c408788d",
   "metadata": {},
   "outputs": [],
   "source": [
    "# Check output\n",
    "display(Markdown(result.tasks_output[1].raw))"
   ]
  }
 ],
 "metadata": {
  "language_info": {
   "name": "python"
  }
 },
 "nbformat": 4,
 "nbformat_minor": 5
}
